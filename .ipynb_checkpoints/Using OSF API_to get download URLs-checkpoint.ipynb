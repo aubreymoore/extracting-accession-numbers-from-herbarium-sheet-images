{
 "cells": [
  {
   "cell_type": "markdown",
   "metadata": {},
   "source": [
    "# Using the OSF API to find download URLs\n",
    "\n",
    "This Jupyter notebook is based on https://osf.io/rs986/.\n",
    "\n",
    "Data are extracted from my project at https://osf.io/befgz."
   ]
  },
  {
   "cell_type": "code",
   "execution_count": 1,
   "metadata": {
    "collapsed": true
   },
   "outputs": [],
   "source": [
    "import json\n",
    "import requests\n",
    "import os\n",
    "import time\n",
    "import re\n",
    "import pandas as pd"
   ]
  },
  {
   "cell_type": "markdown",
   "metadata": {},
   "source": [
    "## Authentication\n",
    "\n",
    "The OSF API uses a token for authentication. To get this token:\n",
    "* create an account on the OSF\n",
    "* login to that account\n",
    "* create an API token by visiting your settings page\n",
    "\n",
    "The best way to use an OSF API token is to add it to your environment variables. In Ubuntu 16.04:\n",
    "* Open a terminal (by pressing Ctrl Alt T )\n",
    "* sudo -H gedit /etc/environment.\n",
    "* Type your password.\n",
    "* Edit the text file just opened: ...\n",
    "* Save it.\n",
    "* Once saved, logout and login again.\n",
    "* Your required changes are made.\n",
    "\n",
    "My **/etc/environment** file looks like this:\n",
    "```\n",
    "PATH=\"/usr/local/sbin:/usr/local/bin:/usr/sbin:/usr/bin:/sbin:/bin:/usr/games:/usr/local/games\"\n",
    "OSF_PASSWORD=\"<my password>\"\n",
    "OSF_TOKEN=\"<my token>\"\n",
    "```  "
   ]
  },
  {
   "cell_type": "code",
   "execution_count": 2,
   "metadata": {
    "collapsed": true
   },
   "outputs": [],
   "source": [
    "OSF_API_URL = 'https://api.osf.io/v2/'\n",
    "OSF_TOKEN = os.environ['OSF_TOKEN']\n",
    "# Alternative: simply supply OSF_TOKEN as a string\n",
    "# OSF_TOKEN = 'your_token_goes_here'"
   ]
  },
  {
   "cell_type": "code",
   "execution_count": 3,
   "metadata": {
    "collapsed": true
   },
   "outputs": [],
   "source": [
    "# helper function which adds authentication to our API requests\n",
    "\n",
    "def get_request(url):\n",
    "    headers = {'Authorization': 'Bearer {}'.format(OSF_TOKEN)}\n",
    "    return requests.get(url, headers=headers)"
   ]
  },
  {
   "cell_type": "code",
   "execution_count": 4,
   "metadata": {
    "collapsed": true
   },
   "outputs": [],
   "source": [
    "# helper function to print out our API responses\n",
    "\n",
    "def pretty_print(json_data):\n",
    "    print(json.dumps(json_data, indent=4))"
   ]
  },
  {
   "cell_type": "markdown",
   "metadata": {},
   "source": [
    "## Extracting URLs for Images\n",
    "\n",
    "Images for my project are stored in this structure:\n",
    "\n",
    "* OSF Storage\n",
    "    * Images\n",
    "        * all_sheets\n",
    "        * labels\n",
    "        \n",
    "**all_sheets** contains 5,590 images of herbarium sheets\n",
    "\n",
    "**labels** contains images of labels extracted from the herbarium sheets"
   ]
  },
  {
   "cell_type": "code",
   "execution_count": 5,
   "metadata": {
    "collapsed": false
   },
   "outputs": [
    {
     "name": "stdout",
     "output_type": "stream",
     "text": [
      "images_folder_path: /5a1bb4d2594d90026ef23992/\n",
      "all_sheets_folder_path: /5a1c936a594d90026ef2bb32/\n",
      "labels_folder_path: /5a2b60f6e08e9b000f9b196c/\n"
     ]
    }
   ],
   "source": [
    "# Get paths for folders\n",
    "\n",
    "url = 'https://api.osf.io/v2/nodes/befgz/files/osfstorage/?format=jsonapi'\n",
    "url = url + '&filter[name]=images'\n",
    "r = get_request(url).json()\n",
    "images_folder_path = r['data'][0]['attributes']['path']\n",
    "print 'images_folder_path: ' + images_folder_path\n",
    "\n",
    "url = OSF_API_URL + 'nodes/befgz/files/osfstorage{}?format=jsonapi'.format(images_folder_path)\n",
    "url = url + '&filter[name]=all_sheets'\n",
    "r = get_request(url).json()\n",
    "all_sheets_folder_path = r['data'][0]['attributes']['path']\n",
    "print 'all_sheets_folder_path: ' + all_sheets_folder_path\n",
    "\n",
    "url = OSF_API_URL + 'nodes/befgz/files/osfstorage{}?format=jsonapi'.format(images_folder_path)\n",
    "url = url + '&filter[name]=labels'\n",
    "r = get_request(url).json()\n",
    "labels_folder_path = r['data'][0]['attributes']['path']\n",
    "print 'labels_folder_path: ' + labels_folder_path"
   ]
  },
  {
   "cell_type": "code",
   "execution_count": 6,
   "metadata": {
    "collapsed": false
   },
   "outputs": [
    {
     "name": "stdout",
     "output_type": "stream",
     "text": [
      "Requesting page 1\n",
      "Requesting page 2\n",
      "Requesting page 3\n",
      "Requesting page 4\n",
      "Requesting page 5\n",
      "Requesting page 6\n",
      "Requesting page 7\n",
      "Requesting page 8\n",
      "Requesting page 9\n",
      "Requesting page 10\n",
      "Requesting page 11\n",
      "Requesting page 12\n",
      "Requesting page 13\n",
      "Requesting page 14\n",
      "Requesting page 15\n",
      "Requesting page 16\n",
      "Requesting page 17\n",
      "Requesting page 18\n",
      "Requesting page 19\n",
      "Requesting page 20\n",
      "Requesting page 21\n",
      "Requesting page 22\n",
      "Requesting page 23\n",
      "Requesting page 24\n",
      "Requesting page 25\n",
      "Requesting page 26\n",
      "Requesting page 27\n",
      "Requesting page 28\n",
      "Requesting page 29\n",
      "Requesting page 30\n",
      "Requesting page 31\n",
      "Requesting page 32\n",
      "Requesting page 33\n",
      "Requesting page 34\n",
      "Requesting page 35\n",
      "Requesting page 36\n",
      "Requesting page 37\n",
      "Requesting page 38\n",
      "Requesting page 39\n",
      "Requesting page 40\n",
      "Requesting page 41\n",
      "Requesting page 42\n",
      "Requesting page 43\n",
      "Requesting page 44\n",
      "Requesting page 45\n",
      "Requesting page 46\n",
      "Requesting page 47\n",
      "Requesting page 48\n",
      "Requesting page 49\n",
      "Requesting page 50\n",
      "Requesting page 51\n",
      "Requesting page 52\n",
      "Requesting page 53\n",
      "Requesting page 54\n",
      "Requesting page 55\n",
      "Requesting page 56\n",
      "Finished list of images stored in osfstorage/images/labels\n",
      "See labels.txt\n"
     ]
    }
   ],
   "source": [
    "# Get materialized paths and download URLs for all files in osfstorage/images/labels and write these to a file\n",
    "\n",
    "f = open('labels.txt', 'w')\n",
    "for page in range(1,1000):\n",
    "    print 'Requesting page {}'.format(page)\n",
    "    # Change number of files per page from 10 (default) to 100 (max allowed) to speed up requests a bit\n",
    "    url = '''{}nodes/befgz/files/osfstorage{}?format=jsonapi&page[size]=100&page={}\n",
    "       '''.format(OSF_API_URL, labels_folder_path, page)\n",
    "    try:\n",
    "        r = get_request(url)\n",
    "        j = r.json()\n",
    "    except:\n",
    "        print('bad response; retrying in 10s')\n",
    "        time.sleep(10)\n",
    "        r = get_request(url)\n",
    "        j = r.json()\n",
    "    for a in j['data']:\n",
    "        materialized_path = a['attributes']['materialized_path']\n",
    "        download_url = a['links']['download']\n",
    "        f.write('{}, {}\\n'.format(materialized_path, download_url))\n",
    "    if j['links']['next']==None:\n",
    "        f.close()\n",
    "        print 'Finished list of images stored in osfstorage/images/labels'\n",
    "        print 'See labels.txt'\n",
    "        break"
   ]
  },
  {
   "cell_type": "code",
   "execution_count": 7,
   "metadata": {
    "collapsed": false
   },
   "outputs": [
    {
     "name": "stdout",
     "output_type": "stream",
     "text": [
      "Requesting page 1\n",
      "Requesting page 2\n",
      "Requesting page 3\n",
      "Requesting page 4\n",
      "Requesting page 5\n",
      "Requesting page 6\n",
      "Requesting page 7\n",
      "Requesting page 8\n",
      "Requesting page 9\n",
      "Requesting page 10\n",
      "Requesting page 11\n",
      "Requesting page 12\n",
      "Requesting page 13\n",
      "Requesting page 14\n",
      "Requesting page 15\n",
      "Requesting page 16\n",
      "Requesting page 17\n",
      "Requesting page 18\n",
      "Requesting page 19\n",
      "Requesting page 20\n",
      "Requesting page 21\n",
      "Requesting page 22\n",
      "Requesting page 23\n",
      "Requesting page 24\n",
      "Requesting page 25\n",
      "Requesting page 26\n",
      "Requesting page 27\n",
      "Requesting page 28\n",
      "Requesting page 29\n",
      "Requesting page 30\n",
      "Requesting page 31\n",
      "Requesting page 32\n",
      "Requesting page 33\n",
      "Requesting page 34\n",
      "Requesting page 35\n",
      "Requesting page 36\n",
      "Requesting page 37\n",
      "Requesting page 38\n",
      "Requesting page 39\n",
      "Requesting page 40\n",
      "Requesting page 41\n",
      "Requesting page 42\n",
      "Requesting page 43\n",
      "Requesting page 44\n",
      "Requesting page 45\n",
      "Requesting page 46\n",
      "Requesting page 47\n",
      "Requesting page 48\n",
      "Requesting page 49\n",
      "Requesting page 50\n",
      "Requesting page 51\n",
      "Requesting page 52\n",
      "Requesting page 53\n",
      "Requesting page 54\n",
      "Requesting page 55\n",
      "Requesting page 56\n",
      "Finished list of images stored in osfstorage/images/all_sheets\n",
      "See all_sheets.txt\n"
     ]
    }
   ],
   "source": [
    "# Get materialized paths and download URLs for all files in osfstorage/images/labels and write these to a file\n",
    "\n",
    "f = open('all_sheets.txt', 'w')\n",
    "for page in range(1,1000):\n",
    "    print 'Requesting page {}'.format(page)\n",
    "    # Change number of files per page from 10 (default) to 100 (max allowed) to speed up requests a bit\n",
    "    url = '''{}nodes/befgz/files/osfstorage{}?format=jsonapi&page[size]=100&page={}\n",
    "       '''.format(OSF_API_URL, all_sheets_folder_path, page)\n",
    "    try:\n",
    "        r = get_request(url)\n",
    "        j = r.json()\n",
    "    except:\n",
    "        print('bad response; retrying in 10s')\n",
    "        time.sleep(10)\n",
    "        r = get_request(url)\n",
    "        j = r.json()\n",
    "    for a in j['data']:\n",
    "        materialized_path = a['attributes']['materialized_path']\n",
    "        download_url = a['links']['download']\n",
    "        f.write('{}, {}\\n'.format(materialized_path, download_url))\n",
    "    if j['links']['next']==None:\n",
    "        f.close()\n",
    "        print 'Finished list of images stored in osfstorage/images/all_sheets'\n",
    "        print 'See all_sheets.txt'\n",
    "        break"
   ]
  },
  {
   "cell_type": "code",
   "execution_count": 14,
   "metadata": {
    "collapsed": true
   },
   "outputs": [],
   "source": [
    "pd.options.display.max_rows = 4\n",
    "pd.options.display.max_colwidth = 100"
   ]
  },
  {
   "cell_type": "code",
   "execution_count": 15,
   "metadata": {
    "collapsed": false
   },
   "outputs": [
    {
     "data": {
      "text/html": [
       "<div>\n",
       "<table border=\"1\" class=\"dataframe\">\n",
       "  <thead>\n",
       "    <tr style=\"text-align: right;\">\n",
       "      <th></th>\n",
       "      <th>url1</th>\n",
       "      <th>url2</th>\n",
       "    </tr>\n",
       "  </thead>\n",
       "  <tbody>\n",
       "    <tr>\n",
       "      <th>0</th>\n",
       "      <td>/images/labels/39800.JPG</td>\n",
       "      <td>https://files.osf.io/v1/resources/befgz/providers/osfstorage/5a2b618fe08e9b000e9b3690</td>\n",
       "    </tr>\n",
       "    <tr>\n",
       "      <th>1</th>\n",
       "      <td>/images/labels/37947.JPG</td>\n",
       "      <td>https://files.osf.io/v1/resources/befgz/providers/osfstorage/5a2b6190e08e9b000f9b19dd</td>\n",
       "    </tr>\n",
       "    <tr>\n",
       "      <th>...</th>\n",
       "      <td>...</td>\n",
       "      <td>...</td>\n",
       "    </tr>\n",
       "    <tr>\n",
       "      <th>5588</th>\n",
       "      <td>/images/labels/41532.JPG</td>\n",
       "      <td>https://files.osf.io/v1/resources/befgz/providers/osfstorage/5a2b8456e08e9b000d9bd45b</td>\n",
       "    </tr>\n",
       "    <tr>\n",
       "      <th>5589</th>\n",
       "      <td>/images/labels/41986.JPG</td>\n",
       "      <td>https://files.osf.io/v1/resources/befgz/providers/osfstorage/5a2b8a1ce08e9b000d9bdfeb</td>\n",
       "    </tr>\n",
       "  </tbody>\n",
       "</table>\n",
       "<p>5590 rows × 2 columns</p>\n",
       "</div>"
      ],
      "text/plain": [
       "                          url1  \\\n",
       "0     /images/labels/39800.JPG   \n",
       "1     /images/labels/37947.JPG   \n",
       "...                        ...   \n",
       "5588  /images/labels/41532.JPG   \n",
       "5589  /images/labels/41986.JPG   \n",
       "\n",
       "                                                                                        url2  \n",
       "0      https://files.osf.io/v1/resources/befgz/providers/osfstorage/5a2b618fe08e9b000e9b3690  \n",
       "1      https://files.osf.io/v1/resources/befgz/providers/osfstorage/5a2b6190e08e9b000f9b19dd  \n",
       "...                                                                                      ...  \n",
       "5588   https://files.osf.io/v1/resources/befgz/providers/osfstorage/5a2b8456e08e9b000d9bd45b  \n",
       "5589   https://files.osf.io/v1/resources/befgz/providers/osfstorage/5a2b8a1ce08e9b000d9bdfeb  \n",
       "\n",
       "[5590 rows x 2 columns]"
      ]
     },
     "execution_count": 15,
     "metadata": {},
     "output_type": "execute_result"
    }
   ],
   "source": [
    "df_labels = pd.read_csv('labels.txt', header=None)\n",
    "df_labels.columns = ['url1', 'url2']\n",
    "df_labels"
   ]
  },
  {
   "cell_type": "code",
   "execution_count": 16,
   "metadata": {
    "collapsed": false
   },
   "outputs": [
    {
     "data": {
      "text/html": [
       "<div>\n",
       "<table border=\"1\" class=\"dataframe\">\n",
       "  <thead>\n",
       "    <tr style=\"text-align: right;\">\n",
       "      <th></th>\n",
       "      <th>url1</th>\n",
       "      <th>url2</th>\n",
       "    </tr>\n",
       "  </thead>\n",
       "  <tbody>\n",
       "    <tr>\n",
       "      <th>0</th>\n",
       "      <td>/images/all_sheets/37669.JPG</td>\n",
       "      <td>https://files.osf.io/v1/resources/befgz/providers/osfstorage/5a1c9433594d900270f25280</td>\n",
       "    </tr>\n",
       "    <tr>\n",
       "      <th>1</th>\n",
       "      <td>/images/all_sheets/37649.JPG</td>\n",
       "      <td>https://files.osf.io/v1/resources/befgz/providers/osfstorage/5a1c9434b83f69026f97741f</td>\n",
       "    </tr>\n",
       "    <tr>\n",
       "      <th>...</th>\n",
       "      <td>...</td>\n",
       "      <td>...</td>\n",
       "    </tr>\n",
       "    <tr>\n",
       "      <th>5588</th>\n",
       "      <td>/images/all_sheets/41230.JPG</td>\n",
       "      <td>https://files.osf.io/v1/resources/befgz/providers/osfstorage/5a2a8e73e08e9b000f9ab426</td>\n",
       "    </tr>\n",
       "    <tr>\n",
       "      <th>5589</th>\n",
       "      <td>/images/all_sheets/39137.JPG</td>\n",
       "      <td>https://files.osf.io/v1/resources/befgz/providers/osfstorage/5a2a8f46e08e9b000e9ac40e</td>\n",
       "    </tr>\n",
       "  </tbody>\n",
       "</table>\n",
       "<p>5590 rows × 2 columns</p>\n",
       "</div>"
      ],
      "text/plain": [
       "                              url1  \\\n",
       "0     /images/all_sheets/37669.JPG   \n",
       "1     /images/all_sheets/37649.JPG   \n",
       "...                            ...   \n",
       "5588  /images/all_sheets/41230.JPG   \n",
       "5589  /images/all_sheets/39137.JPG   \n",
       "\n",
       "                                                                                        url2  \n",
       "0      https://files.osf.io/v1/resources/befgz/providers/osfstorage/5a1c9433594d900270f25280  \n",
       "1      https://files.osf.io/v1/resources/befgz/providers/osfstorage/5a1c9434b83f69026f97741f  \n",
       "...                                                                                      ...  \n",
       "5588   https://files.osf.io/v1/resources/befgz/providers/osfstorage/5a2a8e73e08e9b000f9ab426  \n",
       "5589   https://files.osf.io/v1/resources/befgz/providers/osfstorage/5a2a8f46e08e9b000e9ac40e  \n",
       "\n",
       "[5590 rows x 2 columns]"
      ]
     },
     "execution_count": 16,
     "metadata": {},
     "output_type": "execute_result"
    }
   ],
   "source": [
    "df_all_sheets = pd.read_csv('all_sheets.txt', header=None)\n",
    "df_all_sheets.columns = ['url1', 'url2']\n",
    "df_all_sheets"
   ]
  },
  {
   "cell_type": "code",
   "execution_count": 17,
   "metadata": {
    "collapsed": false
   },
   "outputs": [
    {
     "data": {
      "text/html": [
       "<div>\n",
       "<table border=\"1\" class=\"dataframe\">\n",
       "  <thead>\n",
       "    <tr style=\"text-align: right;\">\n",
       "      <th></th>\n",
       "      <th>url1</th>\n",
       "      <th>url2</th>\n",
       "      <th>n</th>\n",
       "    </tr>\n",
       "  </thead>\n",
       "  <tbody>\n",
       "    <tr>\n",
       "      <th>0</th>\n",
       "      <td>/images/labels/39800.JPG</td>\n",
       "      <td>https://files.osf.io/v1/resources/befgz/providers/osfstorage/5a2b618fe08e9b000e9b3690</td>\n",
       "      <td>39800</td>\n",
       "    </tr>\n",
       "    <tr>\n",
       "      <th>1</th>\n",
       "      <td>/images/labels/37947.JPG</td>\n",
       "      <td>https://files.osf.io/v1/resources/befgz/providers/osfstorage/5a2b6190e08e9b000f9b19dd</td>\n",
       "      <td>37947</td>\n",
       "    </tr>\n",
       "    <tr>\n",
       "      <th>...</th>\n",
       "      <td>...</td>\n",
       "      <td>...</td>\n",
       "      <td>...</td>\n",
       "    </tr>\n",
       "    <tr>\n",
       "      <th>5588</th>\n",
       "      <td>/images/labels/41532.JPG</td>\n",
       "      <td>https://files.osf.io/v1/resources/befgz/providers/osfstorage/5a2b8456e08e9b000d9bd45b</td>\n",
       "      <td>41532</td>\n",
       "    </tr>\n",
       "    <tr>\n",
       "      <th>5589</th>\n",
       "      <td>/images/labels/41986.JPG</td>\n",
       "      <td>https://files.osf.io/v1/resources/befgz/providers/osfstorage/5a2b8a1ce08e9b000d9bdfeb</td>\n",
       "      <td>41986</td>\n",
       "    </tr>\n",
       "  </tbody>\n",
       "</table>\n",
       "<p>5590 rows × 3 columns</p>\n",
       "</div>"
      ],
      "text/plain": [
       "                          url1  \\\n",
       "0     /images/labels/39800.JPG   \n",
       "1     /images/labels/37947.JPG   \n",
       "...                        ...   \n",
       "5588  /images/labels/41532.JPG   \n",
       "5589  /images/labels/41986.JPG   \n",
       "\n",
       "                                                                                        url2  \\\n",
       "0      https://files.osf.io/v1/resources/befgz/providers/osfstorage/5a2b618fe08e9b000e9b3690   \n",
       "1      https://files.osf.io/v1/resources/befgz/providers/osfstorage/5a2b6190e08e9b000f9b19dd   \n",
       "...                                                                                      ...   \n",
       "5588   https://files.osf.io/v1/resources/befgz/providers/osfstorage/5a2b8456e08e9b000d9bd45b   \n",
       "5589   https://files.osf.io/v1/resources/befgz/providers/osfstorage/5a2b8a1ce08e9b000d9bdfeb   \n",
       "\n",
       "          n  \n",
       "0     39800  \n",
       "1     37947  \n",
       "...     ...  \n",
       "5588  41532  \n",
       "5589  41986  \n",
       "\n",
       "[5590 rows x 3 columns]"
      ]
     },
     "execution_count": 17,
     "metadata": {},
     "output_type": "execute_result"
    }
   ],
   "source": [
    "n_list = []\n",
    "for index, row in df_labels.iterrows():\n",
    "    n = int(re.findall('\\\\d+', row.url1)[0])\n",
    "    n_list.append(n)\n",
    "df_labels['n'] = n_list\n",
    "df_labels"
   ]
  },
  {
   "cell_type": "code",
   "execution_count": 18,
   "metadata": {
    "collapsed": false
   },
   "outputs": [
    {
     "data": {
      "text/html": [
       "<div>\n",
       "<table border=\"1\" class=\"dataframe\">\n",
       "  <thead>\n",
       "    <tr style=\"text-align: right;\">\n",
       "      <th></th>\n",
       "      <th>url1</th>\n",
       "      <th>url2</th>\n",
       "      <th>n</th>\n",
       "    </tr>\n",
       "  </thead>\n",
       "  <tbody>\n",
       "    <tr>\n",
       "      <th>0</th>\n",
       "      <td>/images/all_sheets/37669.JPG</td>\n",
       "      <td>https://files.osf.io/v1/resources/befgz/providers/osfstorage/5a1c9433594d900270f25280</td>\n",
       "      <td>37669</td>\n",
       "    </tr>\n",
       "    <tr>\n",
       "      <th>1</th>\n",
       "      <td>/images/all_sheets/37649.JPG</td>\n",
       "      <td>https://files.osf.io/v1/resources/befgz/providers/osfstorage/5a1c9434b83f69026f97741f</td>\n",
       "      <td>37649</td>\n",
       "    </tr>\n",
       "    <tr>\n",
       "      <th>...</th>\n",
       "      <td>...</td>\n",
       "      <td>...</td>\n",
       "      <td>...</td>\n",
       "    </tr>\n",
       "    <tr>\n",
       "      <th>5588</th>\n",
       "      <td>/images/all_sheets/41230.JPG</td>\n",
       "      <td>https://files.osf.io/v1/resources/befgz/providers/osfstorage/5a2a8e73e08e9b000f9ab426</td>\n",
       "      <td>41230</td>\n",
       "    </tr>\n",
       "    <tr>\n",
       "      <th>5589</th>\n",
       "      <td>/images/all_sheets/39137.JPG</td>\n",
       "      <td>https://files.osf.io/v1/resources/befgz/providers/osfstorage/5a2a8f46e08e9b000e9ac40e</td>\n",
       "      <td>39137</td>\n",
       "    </tr>\n",
       "  </tbody>\n",
       "</table>\n",
       "<p>5590 rows × 3 columns</p>\n",
       "</div>"
      ],
      "text/plain": [
       "                              url1  \\\n",
       "0     /images/all_sheets/37669.JPG   \n",
       "1     /images/all_sheets/37649.JPG   \n",
       "...                            ...   \n",
       "5588  /images/all_sheets/41230.JPG   \n",
       "5589  /images/all_sheets/39137.JPG   \n",
       "\n",
       "                                                                                        url2  \\\n",
       "0      https://files.osf.io/v1/resources/befgz/providers/osfstorage/5a1c9433594d900270f25280   \n",
       "1      https://files.osf.io/v1/resources/befgz/providers/osfstorage/5a1c9434b83f69026f97741f   \n",
       "...                                                                                      ...   \n",
       "5588   https://files.osf.io/v1/resources/befgz/providers/osfstorage/5a2a8e73e08e9b000f9ab426   \n",
       "5589   https://files.osf.io/v1/resources/befgz/providers/osfstorage/5a2a8f46e08e9b000e9ac40e   \n",
       "\n",
       "          n  \n",
       "0     37669  \n",
       "1     37649  \n",
       "...     ...  \n",
       "5588  41230  \n",
       "5589  39137  \n",
       "\n",
       "[5590 rows x 3 columns]"
      ]
     },
     "execution_count": 18,
     "metadata": {},
     "output_type": "execute_result"
    }
   ],
   "source": [
    "n_list = []\n",
    "for index, row in df_all_sheets.iterrows():\n",
    "    n = int(re.findall('\\\\d+', row.url1)[0])\n",
    "    n_list.append(n)\n",
    "df_all_sheets['n'] = n_list\n",
    "df_all_sheets"
   ]
  },
  {
   "cell_type": "code",
   "execution_count": 19,
   "metadata": {
    "collapsed": false
   },
   "outputs": [
    {
     "data": {
      "text/html": [
       "<div>\n",
       "<table border=\"1\" class=\"dataframe\">\n",
       "  <thead>\n",
       "    <tr style=\"text-align: right;\">\n",
       "      <th></th>\n",
       "      <th>image_number</th>\n",
       "      <th>sheet_url</th>\n",
       "      <th>label_url</th>\n",
       "    </tr>\n",
       "  </thead>\n",
       "  <tbody>\n",
       "    <tr>\n",
       "      <th>0</th>\n",
       "      <td>39800</td>\n",
       "      <td>https://files.osf.io/v1/resources/befgz/providers/osfstorage/5a2240f06c613b027a254e29</td>\n",
       "      <td>https://files.osf.io/v1/resources/befgz/providers/osfstorage/5a2b618fe08e9b000e9b3690</td>\n",
       "    </tr>\n",
       "    <tr>\n",
       "      <th>1</th>\n",
       "      <td>37947</td>\n",
       "      <td>https://files.osf.io/v1/resources/befgz/providers/osfstorage/5a223eb1b83f690266bf3117</td>\n",
       "      <td>https://files.osf.io/v1/resources/befgz/providers/osfstorage/5a2b6190e08e9b000f9b19dd</td>\n",
       "    </tr>\n",
       "    <tr>\n",
       "      <th>...</th>\n",
       "      <td>...</td>\n",
       "      <td>...</td>\n",
       "      <td>...</td>\n",
       "    </tr>\n",
       "    <tr>\n",
       "      <th>5588</th>\n",
       "      <td>41532</td>\n",
       "      <td>https://files.osf.io/v1/resources/befgz/providers/osfstorage/5a1cf5a4b83f690271972d7f</td>\n",
       "      <td>https://files.osf.io/v1/resources/befgz/providers/osfstorage/5a2b8456e08e9b000d9bd45b</td>\n",
       "    </tr>\n",
       "    <tr>\n",
       "      <th>5589</th>\n",
       "      <td>41986</td>\n",
       "      <td>https://files.osf.io/v1/resources/befgz/providers/osfstorage/5a1ff2749ad5a1026710ec34</td>\n",
       "      <td>https://files.osf.io/v1/resources/befgz/providers/osfstorage/5a2b8a1ce08e9b000d9bdfeb</td>\n",
       "    </tr>\n",
       "  </tbody>\n",
       "</table>\n",
       "<p>5590 rows × 3 columns</p>\n",
       "</div>"
      ],
      "text/plain": [
       "      image_number  \\\n",
       "0            39800   \n",
       "1            37947   \n",
       "...            ...   \n",
       "5588         41532   \n",
       "5589         41986   \n",
       "\n",
       "                                                                                   sheet_url  \\\n",
       "0      https://files.osf.io/v1/resources/befgz/providers/osfstorage/5a2240f06c613b027a254e29   \n",
       "1      https://files.osf.io/v1/resources/befgz/providers/osfstorage/5a223eb1b83f690266bf3117   \n",
       "...                                                                                      ...   \n",
       "5588   https://files.osf.io/v1/resources/befgz/providers/osfstorage/5a1cf5a4b83f690271972d7f   \n",
       "5589   https://files.osf.io/v1/resources/befgz/providers/osfstorage/5a1ff2749ad5a1026710ec34   \n",
       "\n",
       "                                                                                   label_url  \n",
       "0      https://files.osf.io/v1/resources/befgz/providers/osfstorage/5a2b618fe08e9b000e9b3690  \n",
       "1      https://files.osf.io/v1/resources/befgz/providers/osfstorage/5a2b6190e08e9b000f9b19dd  \n",
       "...                                                                                      ...  \n",
       "5588   https://files.osf.io/v1/resources/befgz/providers/osfstorage/5a2b8456e08e9b000d9bd45b  \n",
       "5589   https://files.osf.io/v1/resources/befgz/providers/osfstorage/5a2b8a1ce08e9b000d9bdfeb  \n",
       "\n",
       "[5590 rows x 3 columns]"
      ]
     },
     "execution_count": 19,
     "metadata": {},
     "output_type": "execute_result"
    }
   ],
   "source": [
    "df_urls = df_labels.merge(df_all_sheets, on='n')\n",
    "df_urls.drop(['url1_x','url1_y'], axis=1, inplace=True)\n",
    "df_urls.columns = ['label_url', 'image_number', 'sheet_url']\n",
    "df_urls = df_urls[['image_number', 'sheet_url', 'label_url']]\n",
    "df_urls.to_csv('urls.csv', index=False)\n",
    "df_urls"
   ]
  },
  {
   "cell_type": "code",
   "execution_count": null,
   "metadata": {
    "collapsed": true
   },
   "outputs": [],
   "source": []
  }
 ],
 "metadata": {
  "kernelspec": {
   "display_name": "Python 2",
   "language": "python",
   "name": "python2"
  },
  "language_info": {
   "codemirror_mode": {
    "name": "ipython",
    "version": 2
   },
   "file_extension": ".py",
   "mimetype": "text/x-python",
   "name": "python",
   "nbconvert_exporter": "python",
   "pygments_lexer": "ipython2",
   "version": "2.7.13"
  }
 },
 "nbformat": 4,
 "nbformat_minor": 1
}
