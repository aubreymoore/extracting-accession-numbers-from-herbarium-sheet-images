{
 "cells": [
  {
   "cell_type": "code",
   "execution_count": 1,
   "metadata": {
    "collapsed": true
   },
   "outputs": [],
   "source": [
    "import csv\n",
    "import collections"
   ]
  },
  {
   "cell_type": "code",
   "execution_count": 2,
   "metadata": {
    "collapsed": false
   },
   "outputs": [],
   "source": [
    "template = '=HYPERLINK(\"https://aubreymoore.pythonanywhere.com/herbarium/default/show_image_number/{}\",\"image\")'\n",
    "with open('db_images.csv', 'r') as csv_file:\n",
    "    csv_reader = csv.DictReader(csv_file)    \n",
    "    with open('herbarium_sheet_index.csv', 'w') as new_file:\n",
    "        field_names = ['image_number', 'label_number', 'image_url']\n",
    "        csv_writer = csv.DictWriter(new_file, field_names)\n",
    "        csv_writer.writeheader()\n",
    "        for line in csv_reader:\n",
    "            new_line = collections.OrderedDict() # create orderedDict\n",
    "            new_line['image_number'] = line['images.image_number']\n",
    "            new_line['label_number'] = line['images.label_number']\n",
    "            new_line['image_url'] = template.format(line['images.image_number'])\n",
    "            csv_writer.writerow(new_line)"
   ]
  },
  {
   "cell_type": "code",
   "execution_count": null,
   "metadata": {
    "collapsed": true
   },
   "outputs": [],
   "source": []
  }
 ],
 "metadata": {
  "kernelspec": {
   "display_name": "Python 2",
   "language": "python",
   "name": "python2"
  },
  "language_info": {
   "codemirror_mode": {
    "name": "ipython",
    "version": 2
   },
   "file_extension": ".py",
   "mimetype": "text/x-python",
   "name": "python",
   "nbconvert_exporter": "python",
   "pygments_lexer": "ipython2",
   "version": "2.7.13"
  }
 },
 "nbformat": 4,
 "nbformat_minor": 0
}
