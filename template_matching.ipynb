{
 "cells": [
  {
   "cell_type": "code",
   "execution_count": 29,
   "metadata": {},
   "outputs": [],
   "source": [
    "import cv2\n",
    "import glob\n",
    "import os\n",
    "import time"
   ]
  },
  {
   "cell_type": "code",
   "execution_count": 30,
   "metadata": {},
   "outputs": [],
   "source": [
    "SLINGSTONE_TEMPLATE_FILE = 'templates/slingstone.JPG'\n",
    "RECTANGLE_TEMPLATE_FILE = 'templates/rectangle.JPG'\n",
    "HERBARIUM_SHEETS_DIR = 'all_sheets'\n",
    "ACCESSION_LABEL_DIR = 'accession_labels'"
   ]
  },
  {
   "cell_type": "code",
   "execution_count": 31,
   "metadata": {},
   "outputs": [],
   "source": [
    "def extract_label(source_image, template_image):\n",
    "    result = cv2.matchTemplate(source_image, template_image, cv2.TM_CCOEFF_NORMED)\n",
    "    (minVal, maxVal, minLoc, (x, y)) = cv2.minMaxLoc(result)\n",
    "    correlation = maxVal\n",
    "    template_height, template_width = template_image.shape[:2]\n",
    "    label_image = source_image[y:y+template_height, x:x+template_width]  \n",
    "    return label_image, correlation\n",
    "\n",
    "def localtime():\n",
    "    return time.asctime( time.localtime(time.time()) )"
   ]
  },
  {
   "cell_type": "code",
   "execution_count": 32,
   "metadata": {},
   "outputs": [
    {
     "name": "stdout",
     "output_type": "stream",
     "text": [
      "Sat Dec  9 12:09:53 2017:   STARTING\n",
      "Sat Dec  9 12:12:10 2017:   100 of 5590 (1%) images processed\n",
      "Sat Dec  9 12:14:26 2017:   200 of 5590 (3%) images processed\n",
      "Sat Dec  9 12:16:42 2017:   300 of 5590 (5%) images processed\n",
      "Sat Dec  9 12:18:59 2017:   400 of 5590 (7%) images processed\n",
      "Sat Dec  9 12:20:58 2017:   500 of 5590 (8%) images processed\n",
      "Sat Dec  9 12:22:59 2017:   600 of 5590 (10%) images processed\n",
      "Sat Dec  9 12:24:58 2017:   700 of 5590 (12%) images processed\n",
      "Sat Dec  9 12:26:56 2017:   800 of 5590 (14%) images processed\n",
      "Sat Dec  9 12:28:55 2017:   900 of 5590 (16%) images processed\n",
      "Sat Dec  9 12:30:55 2017:   1000 of 5590 (17%) images processed\n",
      "Sat Dec  9 12:32:55 2017:   1100 of 5590 (19%) images processed\n",
      "Sat Dec  9 12:34:55 2017:   1200 of 5590 (21%) images processed\n",
      "Sat Dec  9 12:36:53 2017:   1300 of 5590 (23%) images processed\n",
      "Sat Dec  9 12:38:52 2017:   1400 of 5590 (25%) images processed\n",
      "Sat Dec  9 12:40:50 2017:   1500 of 5590 (26%) images processed\n",
      "Sat Dec  9 12:42:49 2017:   1600 of 5590 (28%) images processed\n",
      "Sat Dec  9 12:44:49 2017:   1700 of 5590 (30%) images processed\n",
      "Sat Dec  9 12:46:48 2017:   1800 of 5590 (32%) images processed\n",
      "Sat Dec  9 12:48:47 2017:   1900 of 5590 (33%) images processed\n",
      "Sat Dec  9 12:50:47 2017:   2000 of 5590 (35%) images processed\n",
      "Sat Dec  9 12:52:46 2017:   2100 of 5590 (37%) images processed\n",
      "Sat Dec  9 12:54:45 2017:   2200 of 5590 (39%) images processed\n",
      "Sat Dec  9 12:56:44 2017:   2300 of 5590 (41%) images processed\n",
      "Sat Dec  9 12:58:43 2017:   2400 of 5590 (42%) images processed\n",
      "Sat Dec  9 13:00:42 2017:   2500 of 5590 (44%) images processed\n",
      "Sat Dec  9 13:02:42 2017:   2600 of 5590 (46%) images processed\n",
      "Sat Dec  9 13:04:42 2017:   2700 of 5590 (48%) images processed\n",
      "Sat Dec  9 13:06:41 2017:   2800 of 5590 (50%) images processed\n",
      "Sat Dec  9 13:08:41 2017:   2900 of 5590 (51%) images processed\n",
      "Sat Dec  9 13:10:42 2017:   3000 of 5590 (53%) images processed\n",
      "Sat Dec  9 13:12:42 2017:   3100 of 5590 (55%) images processed\n",
      "Sat Dec  9 13:14:42 2017:   3200 of 5590 (57%) images processed\n",
      "Sat Dec  9 13:16:42 2017:   3300 of 5590 (59%) images processed\n",
      "Sat Dec  9 13:18:43 2017:   3400 of 5590 (60%) images processed\n",
      "Sat Dec  9 13:20:43 2017:   3500 of 5590 (62%) images processed\n",
      "Sat Dec  9 13:22:43 2017:   3600 of 5590 (64%) images processed\n",
      "Sat Dec  9 13:24:43 2017:   3700 of 5590 (66%) images processed\n",
      "Sat Dec  9 13:26:44 2017:   3800 of 5590 (67%) images processed\n",
      "Sat Dec  9 13:28:44 2017:   3900 of 5590 (69%) images processed\n",
      "Sat Dec  9 13:30:45 2017:   4000 of 5590 (71%) images processed\n",
      "Sat Dec  9 13:32:45 2017:   4100 of 5590 (73%) images processed\n",
      "Sat Dec  9 13:34:46 2017:   4200 of 5590 (75%) images processed\n",
      "Sat Dec  9 13:36:46 2017:   4300 of 5590 (76%) images processed\n",
      "Sat Dec  9 13:38:47 2017:   4400 of 5590 (78%) images processed\n",
      "Sat Dec  9 13:40:49 2017:   4500 of 5590 (80%) images processed\n",
      "Sat Dec  9 13:42:51 2017:   4600 of 5590 (82%) images processed\n",
      "Sat Dec  9 13:44:54 2017:   4700 of 5590 (84%) images processed\n",
      "Sat Dec  9 13:46:56 2017:   4800 of 5590 (85%) images processed\n",
      "Sat Dec  9 13:48:58 2017:   4900 of 5590 (87%) images processed\n",
      "Sat Dec  9 13:51:01 2017:   5000 of 5590 (89%) images processed\n",
      "Sat Dec  9 13:53:05 2017:   5100 of 5590 (91%) images processed\n",
      "Sat Dec  9 13:55:09 2017:   5200 of 5590 (93%) images processed\n",
      "Sat Dec  9 13:57:12 2017:   5300 of 5590 (94%) images processed\n",
      "Sat Dec  9 13:59:26 2017:   5400 of 5590 (96%) images processed\n",
      "Sat Dec  9 14:01:30 2017:   5500 of 5590 (98%) images processed\n",
      "Sat Dec  9 14:03:22 2017:   5590 of 5590 (100%) images processed\n",
      "FINIS\n"
     ]
    }
   ],
   "source": [
    "# MAIN\n",
    "\n",
    "print '{}:   STARTING'.format(localtime())\n",
    "sheets = glob.glob('{}/*.JPG'.format(HERBARIUM_SHEETS_DIR))\n",
    "n = len(sheets)\n",
    "\n",
    "# Create directory in which to store accesion label images\n",
    "if not os.path.exists(ACCESSION_LABEL_DIR):\n",
    "    os.makedirs(ACCESSION_LABEL_DIR)\n",
    "    \n",
    "# Read template images in grayscale\n",
    "rectangle_template_image = cv2.imread(RECTANGLE_TEMPLATE_FILE,0)\n",
    "slingstone_template_image = cv2.imread(SLINGSTONE_TEMPLATE_FILE,0)\n",
    "\n",
    "# Match label templates and save the match with the highest correlation\n",
    "i = 0\n",
    "for sheet in sheets:\n",
    "    filename = os.path.basename(sheet)\n",
    "    source_image = cv2.imread(sheet,0) # load in grayscale\n",
    "    source_image = source_image[1077:4743, 390:3054] # crop image so that it contains only the herbarium sheet\n",
    "    rectangle_image, rectangle_correlation = extract_label(source_image, rectangle_template_image)\n",
    "    slingstone_image, slingstone_correlation = extract_label(source_image, slingstone_template_image)\n",
    "    if rectangle_correlation > slingstone_correlation:\n",
    "        cv2.imwrite('{}/{}'.format(ACCESSION_LABEL_DIR, filename), rectangle_image) \n",
    "    else:\n",
    "        cv2.imwrite('{}/{}'.format(ACCESSION_LABEL_DIR, filename), slingstone_image)\n",
    "    i += 1\n",
    "    if i%100 == 0:\n",
    "        print '{}:   {} of {} ({}%) images processed'.format(localtime(), i, n, 100*i/n)\n",
    "print '{}:   {} of {} ({}%) images processed'.format(localtime(), i, n, 100*i/n)\n",
    "print 'FINIS'"
   ]
  }
 ],
 "metadata": {
  "kernelspec": {
   "display_name": "gurus",
   "language": "python",
   "name": "gurus"
  },
  "language_info": {
   "codemirror_mode": {
    "name": "ipython",
    "version": 2
   },
   "file_extension": ".py",
   "mimetype": "text/x-python",
   "name": "python",
   "nbconvert_exporter": "python",
   "pygments_lexer": "ipython2",
   "version": "2.7.12"
  }
 },
 "nbformat": 4,
 "nbformat_minor": 2
}
